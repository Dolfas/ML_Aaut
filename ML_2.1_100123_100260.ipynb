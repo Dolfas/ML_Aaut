{
 "cells": [
  {
   "cell_type": "markdown",
   "metadata": {},
   "source": [
    "**ML PROBLEM 4.1**\n",
    "\n",
    "Alexandre Reis nº100123\n",
    "\n",
    "Rodolfo Amorim nº100260"
   ]
  },
  {
   "cell_type": "code",
   "execution_count": 74,
   "metadata": {},
   "outputs": [],
   "source": [
    "from sklearn.model_selection import GridSearchCV, cross_val_score\n",
    "from sklearn.linear_model import LassoCV, Lasso\n",
    "from sklearn import linear_model \n",
    "import matplotlib.pyplot as plt\n",
    "import numpy as np\n",
    "from math import *\n",
    "import os\n"
   ]
  },
  {
   "cell_type": "markdown",
   "metadata": {},
   "source": [
    "**Loading the data from the files given**"
   ]
  },
  {
   "cell_type": "code",
   "execution_count": 65,
   "metadata": {},
   "outputs": [],
   "source": [
    "X_train = np.load(os.path.abspath('X_train_regression1.npy'))\n",
    "y_train = np.load(os.path.abspath('y_train_regression1.npy'))\n",
    "X_test  = np.load(os.path.abspath('X_test_regression1.npy'))"
   ]
  },
  {
   "cell_type": "markdown",
   "metadata": {},
   "source": [
    "**Centering of the data**"
   ]
  },
  {
   "cell_type": "code",
   "execution_count": 66,
   "metadata": {},
   "outputs": [],
   "source": [
    "X_train_mean  = np.mean(X_train,axis=0) \n",
    "y_train_mean  = np.mean(y_train,axis=0)\n",
    "\n",
    "X_train_prime = X_train.copy()\n",
    "y_train_prime = y_train.copy()\n",
    "\n",
    "for i in range(10):\n",
    "    X_train_prime[:,i] = X_train_prime[:,i] -  X_train_mean[i]\n",
    "\n",
    "# y_train_prime is a one dimensional array, and as such we do not include it in the for loop \n",
    "y_train_prime = y_train_prime - y_train_mean "
   ]
  },
  {
   "cell_type": "markdown",
   "metadata": {},
   "source": [
    "**Application of the LASSO Regularization**\n"
   ]
  },
  {
   "cell_type": "code",
   "execution_count": 67,
   "metadata": {},
   "outputs": [
    {
     "name": "stderr",
     "output_type": "stream",
     "text": [
      "c:\\Users\\rodol\\AppData\\Local\\Programs\\Python\\Python39\\lib\\site-packages\\sklearn\\linear_model\\_coordinate_descent.py:1563: DataConversionWarning: A column-vector y was passed when a 1d array was expected. Please change the shape of y to (n_samples, ), for example using ravel().\n",
      "  y = column_or_1d(y, warn=True)\n",
      "c:\\Users\\rodol\\AppData\\Local\\Programs\\Python\\Python39\\lib\\site-packages\\sklearn\\linear_model\\_coordinate_descent.py:614: UserWarning: Coordinate descent without L1 regularization may lead to unexpected results and is discouraged. Set l1_ratio > 0 to add L1 regularization.\n",
      "  model = cd_fast.enet_coordinate_descent_gram(\n",
      "c:\\Users\\rodol\\AppData\\Local\\Programs\\Python\\Python39\\lib\\site-packages\\sklearn\\linear_model\\_coordinate_descent.py:614: ConvergenceWarning: Objective did not converge. You might want to increase the number of iterations. Duality gap: 2.058196398721421, tolerance: 0.006776555683252925\n",
      "  model = cd_fast.enet_coordinate_descent_gram(\n",
      "c:\\Users\\rodol\\AppData\\Local\\Programs\\Python\\Python39\\lib\\site-packages\\sklearn\\linear_model\\_coordinate_descent.py:614: UserWarning: Coordinate descent without L1 regularization may lead to unexpected results and is discouraged. Set l1_ratio > 0 to add L1 regularization.\n",
      "  model = cd_fast.enet_coordinate_descent_gram(\n",
      "c:\\Users\\rodol\\AppData\\Local\\Programs\\Python\\Python39\\lib\\site-packages\\sklearn\\linear_model\\_coordinate_descent.py:614: ConvergenceWarning: Objective did not converge. You might want to increase the number of iterations. Duality gap: 0.16652177231168253, tolerance: 0.007013503309031125\n",
      "  model = cd_fast.enet_coordinate_descent_gram(\n",
      "c:\\Users\\rodol\\AppData\\Local\\Programs\\Python\\Python39\\lib\\site-packages\\sklearn\\linear_model\\_coordinate_descent.py:614: UserWarning: Coordinate descent without L1 regularization may lead to unexpected results and is discouraged. Set l1_ratio > 0 to add L1 regularization.\n",
      "  model = cd_fast.enet_coordinate_descent_gram(\n",
      "c:\\Users\\rodol\\AppData\\Local\\Programs\\Python\\Python39\\lib\\site-packages\\sklearn\\linear_model\\_coordinate_descent.py:614: ConvergenceWarning: Objective did not converge. You might want to increase the number of iterations. Duality gap: 2.2432748646599094, tolerance: 0.006691604337797186\n",
      "  model = cd_fast.enet_coordinate_descent_gram(\n",
      "c:\\Users\\rodol\\AppData\\Local\\Programs\\Python\\Python39\\lib\\site-packages\\sklearn\\linear_model\\_coordinate_descent.py:614: UserWarning: Coordinate descent without L1 regularization may lead to unexpected results and is discouraged. Set l1_ratio > 0 to add L1 regularization.\n",
      "  model = cd_fast.enet_coordinate_descent_gram(\n",
      "c:\\Users\\rodol\\AppData\\Local\\Programs\\Python\\Python39\\lib\\site-packages\\sklearn\\linear_model\\_coordinate_descent.py:614: ConvergenceWarning: Objective did not converge. You might want to increase the number of iterations. Duality gap: 2.064351771436101, tolerance: 0.006278671036348153\n",
      "  model = cd_fast.enet_coordinate_descent_gram(\n",
      "c:\\Users\\rodol\\AppData\\Local\\Programs\\Python\\Python39\\lib\\site-packages\\sklearn\\linear_model\\_coordinate_descent.py:614: UserWarning: Coordinate descent without L1 regularization may lead to unexpected results and is discouraged. Set l1_ratio > 0 to add L1 regularization.\n",
      "  model = cd_fast.enet_coordinate_descent_gram(\n",
      "c:\\Users\\rodol\\AppData\\Local\\Programs\\Python\\Python39\\lib\\site-packages\\sklearn\\linear_model\\_coordinate_descent.py:614: ConvergenceWarning: Objective did not converge. You might want to increase the number of iterations. Duality gap: 1.8284164867141648, tolerance: 0.0027074485473573833\n",
      "  model = cd_fast.enet_coordinate_descent_gram(\n",
      "c:\\Users\\rodol\\AppData\\Local\\Programs\\Python\\Python39\\lib\\site-packages\\sklearn\\linear_model\\_coordinate_descent.py:614: UserWarning: Coordinate descent without L1 regularization may lead to unexpected results and is discouraged. Set l1_ratio > 0 to add L1 regularization.\n",
      "  model = cd_fast.enet_coordinate_descent_gram(\n",
      "c:\\Users\\rodol\\AppData\\Local\\Programs\\Python\\Python39\\lib\\site-packages\\sklearn\\linear_model\\_coordinate_descent.py:614: ConvergenceWarning: Objective did not converge. You might want to increase the number of iterations. Duality gap: 1.8633095210031243, tolerance: 0.006443668093869963\n",
      "  model = cd_fast.enet_coordinate_descent_gram(\n",
      "c:\\Users\\rodol\\AppData\\Local\\Programs\\Python\\Python39\\lib\\site-packages\\sklearn\\linear_model\\_coordinate_descent.py:614: UserWarning: Coordinate descent without L1 regularization may lead to unexpected results and is discouraged. Set l1_ratio > 0 to add L1 regularization.\n",
      "  model = cd_fast.enet_coordinate_descent_gram(\n",
      "c:\\Users\\rodol\\AppData\\Local\\Programs\\Python\\Python39\\lib\\site-packages\\sklearn\\linear_model\\_coordinate_descent.py:614: ConvergenceWarning: Objective did not converge. You might want to increase the number of iterations. Duality gap: 0.572742616546762, tolerance: 0.006851655837824836\n",
      "  model = cd_fast.enet_coordinate_descent_gram(\n",
      "c:\\Users\\rodol\\AppData\\Local\\Programs\\Python\\Python39\\lib\\site-packages\\sklearn\\linear_model\\_coordinate_descent.py:614: UserWarning: Coordinate descent without L1 regularization may lead to unexpected results and is discouraged. Set l1_ratio > 0 to add L1 regularization.\n",
      "  model = cd_fast.enet_coordinate_descent_gram(\n",
      "c:\\Users\\rodol\\AppData\\Local\\Programs\\Python\\Python39\\lib\\site-packages\\sklearn\\linear_model\\_coordinate_descent.py:614: ConvergenceWarning: Objective did not converge. You might want to increase the number of iterations. Duality gap: 2.1438267741561887, tolerance: 0.006636139800114931\n",
      "  model = cd_fast.enet_coordinate_descent_gram(\n"
     ]
    }
   ],
   "source": [
    "LassoModelCV = LassoCV(alphas=np.arange(0,10,0.01),cv=8,fit_intercept=False,random_state=0).fit(X_train_prime, y_train_prime) \n",
    "LassoModel = Lasso(LassoModelCV.alpha_).fit(X_train_prime, y_train_prime) \n",
    "beta_hat_lasso  = LassoModel.coef_ # Beta Coefficients from the LASSO Regularization\n",
    "\n",
    "\n",
    "# Removal of the unnecessary columns from the X data\n",
    "X_train_prime_lasso_ridge= X_train_prime.copy()\n",
    "X_test_lasso_ridge = X_test.copy()\n",
    "for i in range(np.shape(beta_hat_lasso)[0]-1, -1, -1):\n",
    "    if beta_hat_lasso[i]==0:\n",
    "        X_train_prime_lasso_ridge = np.delete(X_train_prime_lasso_ridge, i, 1)\n",
    "        X_test_lasso_ridge = np.delete(X_test_lasso_ridge, i, 1)\n",
    "        X_train_mean = np.delete(X_train_mean, i, axis = 0)"
   ]
  },
  {
   "cell_type": "markdown",
   "metadata": {},
   "source": [
    "**Aplication of the Ridge Regularization to the LASSO Regularization Coefficients**"
   ]
  },
  {
   "cell_type": "code",
   "execution_count": 68,
   "metadata": {},
   "outputs": [],
   "source": [
    "RidgeModel = linear_model.RidgeCV(alphas=np.arange(0.01,10,0.01), fit_intercept=False, scoring=\"neg_mean_squared_error\", cv=5).fit(X_train_prime_lasso_ridge, y_train_prime)\n",
    "beta_hat_ridge= RidgeModel.coef_  # Beta Coefficients from the application of the Ridge Regularization to the Coefficients from the LASSO Regularization"
   ]
  },
  {
   "cell_type": "markdown",
   "metadata": {},
   "source": [
    "**Calculation of the Beta Coefficients to make predictions on Uncentered data**"
   ]
  },
  {
   "cell_type": "code",
   "execution_count": 69,
   "metadata": {},
   "outputs": [],
   "source": [
    "beta_zero = y_train_mean - np.matmul((X_train_mean),np.transpose(beta_hat_ridge))\n",
    "m = [beta_zero[0]]\n",
    "for k in range(((beta_hat_ridge).shape[1])):\n",
    "        m.append(beta_hat_ridge[:,k][0])\n",
    "beta_hat_lasso_ridge = np.array(m)"
   ]
  },
  {
   "cell_type": "markdown",
   "metadata": {},
   "source": [
    "**Prediction for the Test dataset**"
   ]
  },
  {
   "cell_type": "code",
   "execution_count": 73,
   "metadata": {},
   "outputs": [],
   "source": [
    "X_test_final = np.hstack((np.ones((1000,1)),X_test_lasso_ridge))\n",
    "prediction = np.matmul(X_test_final,beta_hat_lasso_ridge)\n",
    "prediciton = prediction.reshape(1000,1)\n",
    "np.save('prediction_100123_100260_4.1',prediction)"
   ]
  }
 ],
 "metadata": {
  "kernelspec": {
   "display_name": "Python 3",
   "language": "python",
   "name": "python3"
  },
  "language_info": {
   "codemirror_mode": {
    "name": "ipython",
    "version": 3
   },
   "file_extension": ".py",
   "mimetype": "text/x-python",
   "name": "python",
   "nbconvert_exporter": "python",
   "pygments_lexer": "ipython3",
   "version": "3.9.7"
  },
  "orig_nbformat": 4
 },
 "nbformat": 4,
 "nbformat_minor": 2
}
