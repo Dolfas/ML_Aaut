{
 "cells": [
  {
   "cell_type": "markdown",
   "metadata": {},
   "source": [
    "**ML PROBLEM 5.1**"
   ]
  },
  {
   "cell_type": "code",
   "execution_count": 3,
   "metadata": {},
   "outputs": [],
   "source": [
    "from sklearn.model_selection import GridSearchCV, cross_val_score\n",
    "from sklearn.linear_model import LassoCV, Lasso\n",
    "from sklearn import linear_model \n",
    "import matplotlib.pyplot as plt\n",
    "import pandas as pd\n",
    "import numpy as np\n",
    "from math import *\n",
    "import warnings\n",
    "import os\n",
    "from sklearn import preprocessing\n",
    "from sklearn.model_selection import cross_validate\n",
    "from sklearn.metrics import r2_score\n",
    "warnings.filterwarnings(\"ignore\")"
   ]
  },
  {
   "cell_type": "code",
   "execution_count": 4,
   "metadata": {},
   "outputs": [],
   "source": [
    "X_train = np.load(os.path.abspath('Xtrain_Classification1.npy'))\n",
    "y_train = np.load(os.path.abspath('ytrain_Classification1.npy'))\n",
    "X_test  = np.load(os.path.abspath('Xtest_Classification1.npy'))"
   ]
  },
  {
   "cell_type": "code",
   "execution_count": 8,
   "metadata": {},
   "outputs": [
    {
     "name": "stdout",
     "output_type": "stream",
     "text": [
      "(6254, 2352)\n",
      "(1764, 2352)\n",
      "(6254,)\n",
      "896\n",
      "5358\n"
     ]
    }
   ],
   "source": [
    "print(X_train.shape)\n",
    "# 6254 elements with 2352 attributes\n",
    "print(X_test.shape)\n",
    "print(y_train.shape)\n",
    "\n",
    "y_melanoma=[y for y in y_train if y]\n",
    "y_nevu=[y for y in y_train if not y]\n",
    "\n",
    "print(len(y_melanoma))\n",
    "print(len(y_nevu))"
   ]
  },
  {
   "cell_type": "markdown",
   "metadata": {},
   "source": []
  }
 ],
 "metadata": {
  "kernelspec": {
   "display_name": "Python 3",
   "language": "python",
   "name": "python3"
  },
  "language_info": {
   "codemirror_mode": {
    "name": "ipython",
    "version": 3
   },
   "file_extension": ".py",
   "mimetype": "text/x-python",
   "name": "python",
   "nbconvert_exporter": "python",
   "pygments_lexer": "ipython3",
   "version": "3.10.11"
  }
 },
 "nbformat": 4,
 "nbformat_minor": 2
}
