{
 "cells": [
  {
   "cell_type": "markdown",
   "metadata": {},
   "source": [
    "**ML PROBLEM 5.1**"
   ]
  },
  {
   "cell_type": "code",
   "execution_count": 3,
   "metadata": {},
   "outputs": [],
   "source": [
    "from sklearn.model_selection import GridSearchCV, cross_val_score\n",
    "from sklearn.linear_model import LassoCV, Lasso\n",
    "from sklearn import linear_model \n",
    "import matplotlib.pyplot as plt\n",
    "import pandas as pd\n",
    "import numpy as np\n",
    "from math import *\n",
    "import warnings\n",
    "import os\n",
    "from sklearn import preprocessing\n",
    "from sklearn.model_selection import cross_validate\n",
    "from sklearn.metrics import r2_score\n",
    "warnings.filterwarnings(\"ignore\")"
   ]
  },
  {
   "cell_type": "code",
   "execution_count": 4,
   "metadata": {},
   "outputs": [],
   "source": [
    "X_train = np.load(os.path.abspath('Xtrain_Classification1.npy'))\n",
    "y_train = np.load(os.path.abspath('ytrain_Classification1.npy'))\n",
    "X_test  = np.load(os.path.abspath('Xtest_Classification1.npy'))"
   ]
  },
  {
   "cell_type": "code",
   "execution_count": 8,
   "metadata": {},
   "outputs": [
    {
     "name": "stdout",
     "output_type": "stream",
     "text": [
      "(6254, 2352)\n",
      "(1764, 2352)\n",
      "(6254,)\n",
      "896\n",
      "5358\n"
     ]
    }
   ],
   "source": [
    "print(X_train.shape)\n",
    "# 6254 elements with 2352 attributes\n",
    "print(X_test.shape)\n",
    "print(y_train.shape)\n",
    "\n",
    "\n",
    "#Checking the imbalance in the data\n",
    "y_melanoma=[y for y in y_train if y]\n",
    "y_nevu=[y for y in y_train if not y]\n",
    "\n",
    "print(len(y_melanoma))\n",
    "print(len(y_nevu))"
   ]
  },
  {
   "cell_type": "markdown",
   "metadata": {},
   "source": [
    "prof da cadeira diz pa usar transfer learning\n",
    "\n",
    "\n",
    "podemos só usar classificadores do sklearn tipo mlpclassifier, logistic regression, naive bayes, svm\n",
    "\n",
    "balanced accuracy: (sensitivity + setificity)/2\n",
    "sensitivity= True positive/(true positvity + false negativity)\n",
    "setificity = (true negative)/(true neg + false positive)\n",
    "\n",
    "\n",
    "Use pytorch neural network - harder but most usefull for harder problems (other options are jax and keras)\n",
    "output layer - 2 neurons is a classification problem - use softmax (if it was 1 neuron it would be regression)\n",
    "\n"
   ]
  },
  {
   "cell_type": "code",
   "execution_count": null,
   "metadata": {},
   "outputs": [],
   "source": [
    "#balanced accuracy\n",
    "def balanced_accuracy(y, y_predicted):\n",
    "    TN=0\n",
    "    TP=0\n",
    "    FP=0\n",
    "    FN=0\n",
    "    for i in range(y_predicted.shape[0]):\n",
    "        if y_predicted(i):\n",
    "            if y_predicted(i)==y(i):\n",
    "                TP+=1\n",
    "            else:\n",
    "                FP+=1\n",
    "        else:\n",
    "            if y_predicted(i)==y(i):\n",
    "                TN+=1\n",
    "            else:\n",
    "                FN+=1\n",
    "    sensitivity= TP/(TP+FN)\n",
    "    specificity = TN/(TN/FP)\n",
    "    balanced_accuracy_val=   (sensitivity+specificity)/2\n",
    "    return balanced_accuracy_val\n"
   ]
  },
  {
   "cell_type": "code",
   "execution_count": 4,
   "metadata": {},
   "outputs": [
    {
     "ename": "SyntaxError",
     "evalue": "invalid syntax (818751887.py, line 2)",
     "output_type": "error",
     "traceback": [
      "\u001b[1;36m  Cell \u001b[1;32mIn[4], line 2\u001b[1;36m\u001b[0m\n\u001b[1;33m    a=+\u001b[0m\n\u001b[1;37m       ^\u001b[0m\n\u001b[1;31mSyntaxError\u001b[0m\u001b[1;31m:\u001b[0m invalid syntax\n"
     ]
    }
   ],
   "source": []
  }
 ],
 "metadata": {
  "kernelspec": {
   "display_name": "Python 3",
   "language": "python",
   "name": "python3"
  },
  "language_info": {
   "codemirror_mode": {
    "name": "ipython",
    "version": 3
   },
   "file_extension": ".py",
   "mimetype": "text/x-python",
   "name": "python",
   "nbconvert_exporter": "python",
   "pygments_lexer": "ipython3",
   "version": "3.10.11"
  }
 },
 "nbformat": 4,
 "nbformat_minor": 2
}
