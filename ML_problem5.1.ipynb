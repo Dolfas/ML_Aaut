{
 "cells": [
  {
   "cell_type": "markdown",
   "metadata": {},
   "source": [
    "**ML PROBLEM 5.1**"
   ]
  },
  {
   "cell_type": "code",
   "execution_count": 2,
   "metadata": {},
   "outputs": [],
   "source": [
    "from sklearn.model_selection import GridSearchCV, cross_val_score\n",
    "from sklearn.linear_model import LassoCV, Lasso\n",
    "from sklearn import linear_model \n",
    "import matplotlib.pyplot as plt\n",
    "import pandas as pd\n",
    "import numpy as np\n",
    "from math import *\n",
    "import warnings\n",
    "import os\n",
    "from sklearn import preprocessing\n",
    "from sklearn.model_selection import cross_validate\n",
    "from sklearn.metrics import r2_score\n",
    "warnings.filterwarnings(\"ignore\")"
   ]
  },
  {
   "cell_type": "code",
   "execution_count": 4,
   "metadata": {},
   "outputs": [],
   "source": [
    "X_train = np.load(os.path.abspath('Xtrain_Classification1.npy'))\n",
    "y_train = np.load(os.path.abspath('ytrain_Classification1.npy'))\n",
    "X_test  = np.load(os.path.abspath('Xtest_Classification1.npy'))"
   ]
  },
  {
   "cell_type": "code",
   "execution_count": 8,
   "metadata": {},
   "outputs": [
    {
     "name": "stdout",
     "output_type": "stream",
     "text": [
      "(6254, 2352)\n",
      "(1764, 2352)\n",
      "(6254,)\n",
      "896\n",
      "5358\n"
     ]
    }
   ],
   "source": [
    "print(X_train.shape)\n",
    "# 6254 elements with 2352 attributes\n",
    "print(X_test.shape)\n",
    "print(y_train.shape)\n",
    "\n",
    "\n",
    "#Checking the imbalance in the data\n",
    "y_melanoma=[y for y in y_train if y]\n",
    "y_nevu=[y for y in y_train if not y]\n",
    "\n",
    "print(len(y_melanoma))\n",
    "print(len(y_nevu))"
   ]
  },
  {
   "cell_type": "markdown",
   "metadata": {},
   "source": [
    "prof da cadeira diz pa usar transfer learning\n",
    "\n",
    "\n",
    "podemos só usar classificadores do sklearn tipo mlpclassifier, logistic regression, naive bayes, svm\n",
    "\n",
    "balanced accuracy: (sensitivity + setificity)/2\n",
    "sensitivity= True positive/(true positvity + false negativity)\n",
    "setificity = (true negative)/(true neg + false positive)\n",
    "\n",
    "\n",
    "Use pytorch neural network - harder but most usefull for harder problems (other options are jax and keras)\n",
    "output layer - 2 neurons is a classification problem - use softmax (if it was 1 neuron it would be regression)\n",
    "\n"
   ]
  },
  {
   "cell_type": "code",
   "execution_count": null,
   "metadata": {},
   "outputs": [],
   "source": [
    "#balanced accuracy\n"
   ]
  },
  {
   "cell_type": "code",
   "execution_count": 6,
   "metadata": {},
   "outputs": [],
   "source": [
    "# keras based model\n",
    "import tensorflow as tf\n",
    "import keras\n",
    "from keras import layers\n",
    "\n",
    "\n",
    "model_keras = keras.Sequential()\n",
    "layer1 = layers.Dense(2, activation=\"relu\", name=\"layer1\")\n",
    "layer2 = layers.Dense(3, activation=\"relu\", name=\"layer2\")\n",
    "layer3 = layers.Dense(4, name=\"layer3\")\n",
    "\n",
    "model_keras.add(layer1)\n",
    "model_keras.add(layer2)\n",
    "model_keras.add(layer3)\n",
    "model_keras.add(layers.Dense(2, activation=\"softmax\"))\n",
    "\n",
    "\n"
   ]
  },
  {
   "cell_type": "code",
   "execution_count": null,
   "metadata": {},
   "outputs": [],
   "source": []
  }
 ],
 "metadata": {
  "kernelspec": {
   "display_name": "Python 3",
   "language": "python",
   "name": "python3"
  },
  "language_info": {
   "codemirror_mode": {
    "name": "ipython",
    "version": 3
   },
   "file_extension": ".py",
   "mimetype": "text/x-python",
   "name": "python",
   "nbconvert_exporter": "python",
   "pygments_lexer": "ipython3",
   "version": "3.9.7"
  }
 },
 "nbformat": 4,
 "nbformat_minor": 2
}
